{
 "cells": [
  {
   "cell_type": "markdown",
   "metadata": {},
   "source": [
    "# VacationPy\n",
    "----\n",
    "\n",
    "#### Note\n",
    "* Instructions have been included for each segment. You do not have to follow them exactly, but they are included to help you think through the steps."
   ]
  },
  {
   "cell_type": "code",
   "execution_count": 6,
   "metadata": {},
   "outputs": [],
   "source": [
    "# Dependencies and Setup\n",
    "import matplotlib.pyplot as plt\n",
    "import pandas as pd\n",
    "import numpy as np\n",
    "import requests\n",
    "import gmaps\n",
    "import os\n",
    "\n",
    "# Import API key\n",
    "from api_keys import g_key"
   ]
  },
  {
   "cell_type": "markdown",
   "metadata": {},
   "source": [
    "### Store Part I results into DataFrame\n",
    "* Load the csv exported in Part I to a DataFrame"
   ]
  },
  {
   "cell_type": "code",
   "execution_count": 7,
   "metadata": {},
   "outputs": [
    {
     "output_type": "execute_result",
     "data": {
      "text/plain": [
       "                    City  Cloudiness Country        Date  Humidity    Lat  \\\n",
       "0                Rikitea         100      PF  2020-10-25        82 -23.12   \n",
       "1          Mar del Plata          90      AR  2020-10-25       100 -38.00   \n",
       "2             Brigantine          90      US  2020-10-25        93  39.41   \n",
       "3              Tuatapere          96      NZ  2020-10-25        57 -46.13   \n",
       "4               Katsuura          75      JP  2020-10-25        62  35.13   \n",
       "..                   ...         ...     ...         ...       ...    ...   \n",
       "570  Santiago del Estero          46      AR  2020-10-25        67 -27.80   \n",
       "571             Cao Bang          51      VN  2020-10-25        77  22.67   \n",
       "572           San Benito          45      US  2020-10-25        57  36.62   \n",
       "573                Yatou          64      CN  2020-10-25        67  37.15   \n",
       "574                Arlit           0      NE  2020-10-25        18  18.74   \n",
       "\n",
       "        Lng  Max Temp  Wind Speed  \n",
       "0   -134.97     23.61       10.08  \n",
       "1    -57.56     16.11        1.36  \n",
       "2    -74.36     12.78        3.60  \n",
       "3    167.68     12.22        3.13  \n",
       "4    140.30     17.22        3.10  \n",
       "..      ...       ...         ...  \n",
       "570  -64.26     25.24       11.33  \n",
       "571  106.25     20.89        0.51  \n",
       "572 -121.08     20.56        1.34  \n",
       "573  122.38     14.37        1.03  \n",
       "574    7.39     24.81        4.11  \n",
       "\n",
       "[575 rows x 9 columns]"
      ],
      "text/html": "<div>\n<style scoped>\n    .dataframe tbody tr th:only-of-type {\n        vertical-align: middle;\n    }\n\n    .dataframe tbody tr th {\n        vertical-align: top;\n    }\n\n    .dataframe thead th {\n        text-align: right;\n    }\n</style>\n<table border=\"1\" class=\"dataframe\">\n  <thead>\n    <tr style=\"text-align: right;\">\n      <th></th>\n      <th>City</th>\n      <th>Cloudiness</th>\n      <th>Country</th>\n      <th>Date</th>\n      <th>Humidity</th>\n      <th>Lat</th>\n      <th>Lng</th>\n      <th>Max Temp</th>\n      <th>Wind Speed</th>\n    </tr>\n  </thead>\n  <tbody>\n    <tr>\n      <th>0</th>\n      <td>Rikitea</td>\n      <td>100</td>\n      <td>PF</td>\n      <td>2020-10-25</td>\n      <td>82</td>\n      <td>-23.12</td>\n      <td>-134.97</td>\n      <td>23.61</td>\n      <td>10.08</td>\n    </tr>\n    <tr>\n      <th>1</th>\n      <td>Mar del Plata</td>\n      <td>90</td>\n      <td>AR</td>\n      <td>2020-10-25</td>\n      <td>100</td>\n      <td>-38.00</td>\n      <td>-57.56</td>\n      <td>16.11</td>\n      <td>1.36</td>\n    </tr>\n    <tr>\n      <th>2</th>\n      <td>Brigantine</td>\n      <td>90</td>\n      <td>US</td>\n      <td>2020-10-25</td>\n      <td>93</td>\n      <td>39.41</td>\n      <td>-74.36</td>\n      <td>12.78</td>\n      <td>3.60</td>\n    </tr>\n    <tr>\n      <th>3</th>\n      <td>Tuatapere</td>\n      <td>96</td>\n      <td>NZ</td>\n      <td>2020-10-25</td>\n      <td>57</td>\n      <td>-46.13</td>\n      <td>167.68</td>\n      <td>12.22</td>\n      <td>3.13</td>\n    </tr>\n    <tr>\n      <th>4</th>\n      <td>Katsuura</td>\n      <td>75</td>\n      <td>JP</td>\n      <td>2020-10-25</td>\n      <td>62</td>\n      <td>35.13</td>\n      <td>140.30</td>\n      <td>17.22</td>\n      <td>3.10</td>\n    </tr>\n    <tr>\n      <th>...</th>\n      <td>...</td>\n      <td>...</td>\n      <td>...</td>\n      <td>...</td>\n      <td>...</td>\n      <td>...</td>\n      <td>...</td>\n      <td>...</td>\n      <td>...</td>\n    </tr>\n    <tr>\n      <th>570</th>\n      <td>Santiago del Estero</td>\n      <td>46</td>\n      <td>AR</td>\n      <td>2020-10-25</td>\n      <td>67</td>\n      <td>-27.80</td>\n      <td>-64.26</td>\n      <td>25.24</td>\n      <td>11.33</td>\n    </tr>\n    <tr>\n      <th>571</th>\n      <td>Cao Bang</td>\n      <td>51</td>\n      <td>VN</td>\n      <td>2020-10-25</td>\n      <td>77</td>\n      <td>22.67</td>\n      <td>106.25</td>\n      <td>20.89</td>\n      <td>0.51</td>\n    </tr>\n    <tr>\n      <th>572</th>\n      <td>San Benito</td>\n      <td>45</td>\n      <td>US</td>\n      <td>2020-10-25</td>\n      <td>57</td>\n      <td>36.62</td>\n      <td>-121.08</td>\n      <td>20.56</td>\n      <td>1.34</td>\n    </tr>\n    <tr>\n      <th>573</th>\n      <td>Yatou</td>\n      <td>64</td>\n      <td>CN</td>\n      <td>2020-10-25</td>\n      <td>67</td>\n      <td>37.15</td>\n      <td>122.38</td>\n      <td>14.37</td>\n      <td>1.03</td>\n    </tr>\n    <tr>\n      <th>574</th>\n      <td>Arlit</td>\n      <td>0</td>\n      <td>NE</td>\n      <td>2020-10-25</td>\n      <td>18</td>\n      <td>18.74</td>\n      <td>7.39</td>\n      <td>24.81</td>\n      <td>4.11</td>\n    </tr>\n  </tbody>\n</table>\n<p>575 rows × 9 columns</p>\n</div>"
     },
     "metadata": {},
     "execution_count": 7
    }
   ],
   "source": [
    "#Read data from CSV file\n",
    "weather_df = pd.read_csv(\"weather_city.csv\",index_col=0)\n",
    "#Print head to verify\n",
    "weather_df"
   ]
  },
  {
   "cell_type": "markdown",
   "metadata": {},
   "source": [
    "### Humidity Heatmap\n",
    "* Configure gmaps.\n",
    "* Use the Lat and Lng as locations and Humidity as the weight.\n",
    "* Add Heatmap layer to map."
   ]
  },
  {
   "cell_type": "code",
   "execution_count": 10,
   "metadata": {},
   "outputs": [],
   "source": [
    "#Set api key\n",
    "gmaps.configure(api_key=g_key)\n",
    "#Set lat and lng as locations\n",
    "locations = weather_df[[\"Lat\",\"Lng\"]]\n",
    "#Set Humidity as weight\n",
    "weight=weather_df[\"Humidity\"]\n"
   ]
  },
  {
   "cell_type": "code",
   "execution_count": 11,
   "metadata": {},
   "outputs": [
    {
     "output_type": "display_data",
     "data": {
      "text/plain": "Figure(layout=FigureLayout(height='420px'))",
      "application/vnd.jupyter.widget-view+json": {
       "version_major": 2,
       "version_minor": 0,
       "model_id": "7f9e7356c948419b848b370eb1260720"
      }
     },
     "metadata": {}
    }
   ],
   "source": [
    "# Plot Heatmap\n",
    "fig = gmaps.figure(center=(46.0, -5.0), zoom_level=2)\n",
    "max_intensity = np.max(weight)\n",
    "\n",
    "# Create heat layer\n",
    "heat_layer = gmaps.heatmap_layer(\n",
    "    locations, \n",
    "    weights = weight, \n",
    "    dissipating=False, \n",
    "    max_intensity=100, \n",
    "    point_radius=3)\n",
    "\n",
    "# Add layer\n",
    "fig.add_layer(heat_layer)\n",
    "\n",
    "# Display figure\n",
    "fig"
   ]
  },
  {
   "cell_type": "markdown",
   "metadata": {},
   "source": [
    "### Create new DataFrame fitting weather criteria\n",
    "* Narrow down the cities to fit weather conditions.\n",
    "* Drop any rows will null values."
   ]
  },
  {
   "cell_type": "code",
   "execution_count": null,
   "metadata": {},
   "outputs": [],
   "source": []
  },
  {
   "cell_type": "markdown",
   "metadata": {},
   "source": [
    "### Hotel Map\n",
    "* Store into variable named `hotel_df`.\n",
    "* Add a \"Hotel Name\" column to the DataFrame.\n",
    "* Set parameters to search for hotels with 5000 meters.\n",
    "* Hit the Google Places API for each city's coordinates.\n",
    "* Store the first Hotel result into the DataFrame.\n",
    "* Plot markers on top of the heatmap."
   ]
  },
  {
   "cell_type": "code",
   "execution_count": null,
   "metadata": {},
   "outputs": [],
   "source": []
  },
  {
   "cell_type": "code",
   "execution_count": null,
   "metadata": {},
   "outputs": [],
   "source": []
  },
  {
   "cell_type": "code",
   "execution_count": null,
   "metadata": {},
   "outputs": [],
   "source": [
    "\n"
   ]
  },
  {
   "cell_type": "code",
   "execution_count": null,
   "metadata": {},
   "outputs": [],
   "source": [
    "# NOTE: Do not change any of the code in this cell\n",
    "\n",
    "# Using the template add the hotel marks to the heatmap\n",
    "info_box_template = \"\"\"\n",
    "<dl>\n",
    "<dt>Name</dt><dd>{Hotel Name}</dd>\n",
    "<dt>City</dt><dd>{City}</dd>\n",
    "<dt>Country</dt><dd>{Country}</dd>\n",
    "</dl>\n",
    "\"\"\"\n",
    "# Store the DataFrame Row\n",
    "# NOTE: be sure to update with your DataFrame name\n",
    "hotel_info = [info_box_template.format(**row) for index, row in narrowed_city_df.iterrows()]\n",
    "locations = hotel_df[[\"Lat\", \"Lng\"]]"
   ]
  },
  {
   "cell_type": "code",
   "execution_count": null,
   "metadata": {},
   "outputs": [],
   "source": [
    "# Add marker layer ontop of heat map\n",
    "\n",
    "\n",
    "# Display Map"
   ]
  }
 ],
 "metadata": {
  "kernelspec": {
   "name": "Python 3.8.3 64-bit",
   "display_name": "Python 3.8.3 64-bit",
   "metadata": {
    "interpreter": {
     "hash": "d0a9c46be6618a26d211514e1cc10aa3b53c3805d6f134c69a491bb488cebf31"
    }
   }
  },
  "language_info": {
   "codemirror_mode": {
    "name": "ipython",
    "version": 3
   },
   "file_extension": ".py",
   "mimetype": "text/x-python",
   "name": "python",
   "nbconvert_exporter": "python",
   "pygments_lexer": "ipython3",
   "version": "3.8.3-final"
  },
  "latex_envs": {
   "LaTeX_envs_menu_present": true,
   "autoclose": false,
   "autocomplete": true,
   "bibliofile": "biblio.bib",
   "cite_by": "apalike",
   "current_citInitial": 1,
   "eqLabelWithNumbers": true,
   "eqNumInitial": 1,
   "hotkeys": {
    "equation": "Ctrl-E",
    "itemize": "Ctrl-I"
   },
   "labels_anchors": false,
   "latex_user_defs": false,
   "report_style_numbering": false,
   "user_envs_cfg": false
  }
 },
 "nbformat": 4,
 "nbformat_minor": 2
}