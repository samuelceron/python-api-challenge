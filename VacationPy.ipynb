{
 "cells": [
  {
   "cell_type": "markdown",
   "metadata": {},
   "source": [
    "# VacationPy\n",
    "----\n",
    "\n",
    "#### Note\n",
    "* Instructions have been included for each segment. You do not have to follow them exactly, but they are included to help you think through the steps."
   ]
  },
  {
   "cell_type": "code",
   "execution_count": 6,
   "metadata": {},
   "outputs": [],
   "source": [
    "# Dependencies and Setup\n",
    "import matplotlib.pyplot as plt\n",
    "import pandas as pd\n",
    "import numpy as np\n",
    "import requests\n",
    "import gmaps\n",
    "import os\n",
    "\n",
    "# Import API key\n",
    "from api_keys import g_key"
   ]
  },
  {
   "cell_type": "markdown",
   "metadata": {},
   "source": [
    "### Store Part I results into DataFrame\n",
    "* Load the csv exported in Part I to a DataFrame"
   ]
  },
  {
   "cell_type": "code",
   "execution_count": 20,
   "metadata": {},
   "outputs": [
    {
     "output_type": "execute_result",
     "data": {
      "text/plain": [
       "            City  Cloudiness Country        Date  Humidity    Lat     Lng  \\\n",
       "0        Rikitea         100      PF  2020-10-25        82 -23.12 -134.97   \n",
       "1  Mar del Plata          90      AR  2020-10-25       100 -38.00  -57.56   \n",
       "2     Brigantine          90      US  2020-10-25        93  39.41  -74.36   \n",
       "3      Tuatapere          96      NZ  2020-10-25        57 -46.13  167.68   \n",
       "4       Katsuura          75      JP  2020-10-25        62  35.13  140.30   \n",
       "\n",
       "   Max Temp  Wind Speed  \n",
       "0     23.61       10.08  \n",
       "1     16.11        1.36  \n",
       "2     12.78        3.60  \n",
       "3     12.22        3.13  \n",
       "4     17.22        3.10  "
      ],
      "text/html": "<div>\n<style scoped>\n    .dataframe tbody tr th:only-of-type {\n        vertical-align: middle;\n    }\n\n    .dataframe tbody tr th {\n        vertical-align: top;\n    }\n\n    .dataframe thead th {\n        text-align: right;\n    }\n</style>\n<table border=\"1\" class=\"dataframe\">\n  <thead>\n    <tr style=\"text-align: right;\">\n      <th></th>\n      <th>City</th>\n      <th>Cloudiness</th>\n      <th>Country</th>\n      <th>Date</th>\n      <th>Humidity</th>\n      <th>Lat</th>\n      <th>Lng</th>\n      <th>Max Temp</th>\n      <th>Wind Speed</th>\n    </tr>\n  </thead>\n  <tbody>\n    <tr>\n      <th>0</th>\n      <td>Rikitea</td>\n      <td>100</td>\n      <td>PF</td>\n      <td>2020-10-25</td>\n      <td>82</td>\n      <td>-23.12</td>\n      <td>-134.97</td>\n      <td>23.61</td>\n      <td>10.08</td>\n    </tr>\n    <tr>\n      <th>1</th>\n      <td>Mar del Plata</td>\n      <td>90</td>\n      <td>AR</td>\n      <td>2020-10-25</td>\n      <td>100</td>\n      <td>-38.00</td>\n      <td>-57.56</td>\n      <td>16.11</td>\n      <td>1.36</td>\n    </tr>\n    <tr>\n      <th>2</th>\n      <td>Brigantine</td>\n      <td>90</td>\n      <td>US</td>\n      <td>2020-10-25</td>\n      <td>93</td>\n      <td>39.41</td>\n      <td>-74.36</td>\n      <td>12.78</td>\n      <td>3.60</td>\n    </tr>\n    <tr>\n      <th>3</th>\n      <td>Tuatapere</td>\n      <td>96</td>\n      <td>NZ</td>\n      <td>2020-10-25</td>\n      <td>57</td>\n      <td>-46.13</td>\n      <td>167.68</td>\n      <td>12.22</td>\n      <td>3.13</td>\n    </tr>\n    <tr>\n      <th>4</th>\n      <td>Katsuura</td>\n      <td>75</td>\n      <td>JP</td>\n      <td>2020-10-25</td>\n      <td>62</td>\n      <td>35.13</td>\n      <td>140.30</td>\n      <td>17.22</td>\n      <td>3.10</td>\n    </tr>\n  </tbody>\n</table>\n</div>"
     },
     "metadata": {},
     "execution_count": 20
    }
   ],
   "source": [
    "#Read data from CSV file\n",
    "weather_df = pd.read_csv(\"weather_city.csv\",index_col=0)\n",
    "#Print head to verify\n",
    "weather_df.head()\n"
   ]
  },
  {
   "cell_type": "markdown",
   "metadata": {},
   "source": [
    "### Humidity Heatmap\n",
    "* Configure gmaps.\n",
    "* Use the Lat and Lng as locations and Humidity as the weight.\n",
    "* Add Heatmap layer to map."
   ]
  },
  {
   "cell_type": "code",
   "execution_count": 10,
   "metadata": {},
   "outputs": [],
   "source": [
    "#Set api key\n",
    "gmaps.configure(api_key=g_key)\n",
    "#Set lat and lng as locations\n",
    "locations = weather_df[[\"Lat\",\"Lng\"]]\n",
    "#Set Humidity as weight\n",
    "weight=weather_df[\"Humidity\"]\n"
   ]
  },
  {
   "cell_type": "code",
   "execution_count": 13,
   "metadata": {},
   "outputs": [
    {
     "output_type": "display_data",
     "data": {
      "text/plain": "Figure(layout=FigureLayout(height='420px'))",
      "application/vnd.jupyter.widget-view+json": {
       "version_major": 2,
       "version_minor": 0,
       "model_id": "502ee79ff5d24b2bac713ff1eb488f18"
      }
     },
     "metadata": {}
    }
   ],
   "source": [
    "# Plot Heatmap\n",
    "fig = gmaps.figure(center=(46.0, -5.0), zoom_level=2)\n",
    "max_intensity = np.max(weight)\n",
    "\n",
    "# Create heat layer\n",
    "heatmap = gmaps.heatmap_layer(\n",
    "    locations, \n",
    "    weights = weight, \n",
    "    dissipating=False, \n",
    "    max_intensity=100, \n",
    "    point_radius=3)\n",
    "\n",
    "# Add layer\n",
    "fig.add_layer(heatmap)\n",
    "\n",
    "# Display figure\n",
    "fig"
   ]
  },
  {
   "cell_type": "markdown",
   "metadata": {},
   "source": [
    "### Create new DataFrame fitting weather criteria\n",
    "* Narrow down the cities to fit weather conditions.\n",
    "* Drop any rows will null values."
   ]
  },
  {
   "cell_type": "code",
   "execution_count": 35,
   "metadata": {},
   "outputs": [
    {
     "output_type": "execute_result",
     "data": {
      "text/plain": [
       "               City  Cloudiness Country        Date  Humidity    Lat     Lng  \\\n",
       "25   Howard Springs          40      AU  2020-10-25        66 -12.50  131.05   \n",
       "77           Ixtapa          75      MX  2020-10-25        66  20.70 -105.20   \n",
       "79             Hilo          40      US  2020-10-25        55  19.73 -155.09   \n",
       "433  Cabo San Lucas          40      MX  2020-10-25        58  22.89 -109.91   \n",
       "443        Lorengau         100      PG  2020-10-25        65  -2.02  147.27   \n",
       "\n",
       "     Max Temp  Wind Speed  \n",
       "25      31.11        1.50  \n",
       "77      32.00        3.10  \n",
       "79      31.00        5.10  \n",
       "433     31.11        5.10  \n",
       "443     30.06        2.55  "
      ],
      "text/html": "<div>\n<style scoped>\n    .dataframe tbody tr th:only-of-type {\n        vertical-align: middle;\n    }\n\n    .dataframe tbody tr th {\n        vertical-align: top;\n    }\n\n    .dataframe thead th {\n        text-align: right;\n    }\n</style>\n<table border=\"1\" class=\"dataframe\">\n  <thead>\n    <tr style=\"text-align: right;\">\n      <th></th>\n      <th>City</th>\n      <th>Cloudiness</th>\n      <th>Country</th>\n      <th>Date</th>\n      <th>Humidity</th>\n      <th>Lat</th>\n      <th>Lng</th>\n      <th>Max Temp</th>\n      <th>Wind Speed</th>\n    </tr>\n  </thead>\n  <tbody>\n    <tr>\n      <th>25</th>\n      <td>Howard Springs</td>\n      <td>40</td>\n      <td>AU</td>\n      <td>2020-10-25</td>\n      <td>66</td>\n      <td>-12.50</td>\n      <td>131.05</td>\n      <td>31.11</td>\n      <td>1.50</td>\n    </tr>\n    <tr>\n      <th>77</th>\n      <td>Ixtapa</td>\n      <td>75</td>\n      <td>MX</td>\n      <td>2020-10-25</td>\n      <td>66</td>\n      <td>20.70</td>\n      <td>-105.20</td>\n      <td>32.00</td>\n      <td>3.10</td>\n    </tr>\n    <tr>\n      <th>79</th>\n      <td>Hilo</td>\n      <td>40</td>\n      <td>US</td>\n      <td>2020-10-25</td>\n      <td>55</td>\n      <td>19.73</td>\n      <td>-155.09</td>\n      <td>31.00</td>\n      <td>5.10</td>\n    </tr>\n    <tr>\n      <th>433</th>\n      <td>Cabo San Lucas</td>\n      <td>40</td>\n      <td>MX</td>\n      <td>2020-10-25</td>\n      <td>58</td>\n      <td>22.89</td>\n      <td>-109.91</td>\n      <td>31.11</td>\n      <td>5.10</td>\n    </tr>\n    <tr>\n      <th>443</th>\n      <td>Lorengau</td>\n      <td>100</td>\n      <td>PG</td>\n      <td>2020-10-25</td>\n      <td>65</td>\n      <td>-2.02</td>\n      <td>147.27</td>\n      <td>30.06</td>\n      <td>2.55</td>\n    </tr>\n  </tbody>\n</table>\n</div>"
     },
     "metadata": {},
     "execution_count": 35
    }
   ],
   "source": [
    "#Narrow hot cities with a max temp over 30°C and over 50% Humidity\n",
    "hot_cities_df = weather_df.loc[(weather_df[\"Max Temp\"] > 30) & (weather_df[\"Humidity\"] > 50)].dropna()\n",
    "\n",
    "hot_cities_df"
   ]
  },
  {
   "cell_type": "markdown",
   "metadata": {},
   "source": [
    "### Hotel Map\n",
    "* Store into variable named `hotel_df`.\n",
    "* Add a \"Hotel Name\" column to the DataFrame.\n",
    "* Set parameters to search for hotels with 5000 meters.\n",
    "* Hit the Google Places API for each city's coordinates.\n",
    "* Store the first Hotel result into the DataFrame.\n",
    "* Plot markers on top of the heatmap."
   ]
  },
  {
   "cell_type": "code",
   "execution_count": 37,
   "metadata": {},
   "outputs": [
    {
     "output_type": "execute_result",
     "data": {
      "text/plain": [
       "               City  Cloudiness Country        Date  Humidity    Lat     Lng  \\\n",
       "25   Howard Springs          40      AU  2020-10-25        66 -12.50  131.05   \n",
       "77           Ixtapa          75      MX  2020-10-25        66  20.70 -105.20   \n",
       "79             Hilo          40      US  2020-10-25        55  19.73 -155.09   \n",
       "433  Cabo San Lucas          40      MX  2020-10-25        58  22.89 -109.91   \n",
       "443        Lorengau         100      PG  2020-10-25        65  -2.02  147.27   \n",
       "\n",
       "     Max Temp  Wind Speed Hotel name  \n",
       "25      31.11        1.50             \n",
       "77      32.00        3.10             \n",
       "79      31.00        5.10             \n",
       "433     31.11        5.10             \n",
       "443     30.06        2.55             "
      ],
      "text/html": "<div>\n<style scoped>\n    .dataframe tbody tr th:only-of-type {\n        vertical-align: middle;\n    }\n\n    .dataframe tbody tr th {\n        vertical-align: top;\n    }\n\n    .dataframe thead th {\n        text-align: right;\n    }\n</style>\n<table border=\"1\" class=\"dataframe\">\n  <thead>\n    <tr style=\"text-align: right;\">\n      <th></th>\n      <th>City</th>\n      <th>Cloudiness</th>\n      <th>Country</th>\n      <th>Date</th>\n      <th>Humidity</th>\n      <th>Lat</th>\n      <th>Lng</th>\n      <th>Max Temp</th>\n      <th>Wind Speed</th>\n      <th>Hotel name</th>\n    </tr>\n  </thead>\n  <tbody>\n    <tr>\n      <th>25</th>\n      <td>Howard Springs</td>\n      <td>40</td>\n      <td>AU</td>\n      <td>2020-10-25</td>\n      <td>66</td>\n      <td>-12.50</td>\n      <td>131.05</td>\n      <td>31.11</td>\n      <td>1.50</td>\n      <td></td>\n    </tr>\n    <tr>\n      <th>77</th>\n      <td>Ixtapa</td>\n      <td>75</td>\n      <td>MX</td>\n      <td>2020-10-25</td>\n      <td>66</td>\n      <td>20.70</td>\n      <td>-105.20</td>\n      <td>32.00</td>\n      <td>3.10</td>\n      <td></td>\n    </tr>\n    <tr>\n      <th>79</th>\n      <td>Hilo</td>\n      <td>40</td>\n      <td>US</td>\n      <td>2020-10-25</td>\n      <td>55</td>\n      <td>19.73</td>\n      <td>-155.09</td>\n      <td>31.00</td>\n      <td>5.10</td>\n      <td></td>\n    </tr>\n    <tr>\n      <th>433</th>\n      <td>Cabo San Lucas</td>\n      <td>40</td>\n      <td>MX</td>\n      <td>2020-10-25</td>\n      <td>58</td>\n      <td>22.89</td>\n      <td>-109.91</td>\n      <td>31.11</td>\n      <td>5.10</td>\n      <td></td>\n    </tr>\n    <tr>\n      <th>443</th>\n      <td>Lorengau</td>\n      <td>100</td>\n      <td>PG</td>\n      <td>2020-10-25</td>\n      <td>65</td>\n      <td>-2.02</td>\n      <td>147.27</td>\n      <td>30.06</td>\n      <td>2.55</td>\n      <td></td>\n    </tr>\n  </tbody>\n</table>\n</div>"
     },
     "metadata": {},
     "execution_count": 37
    }
   ],
   "source": [
    "#Store into variable named hotel_df.\n",
    "hotel_df = hot_cities_df\n",
    "#Add a \"Hotel Name\" column to the DataFrame.\n",
    "hotel_df[\"Hotel name\"]=\"\"\n",
    "#Set parameters to search for hotels with 5000 meters.\n",
    "radius=5000\n",
    "hotel_df.head()"
   ]
  },
  {
   "cell_type": "code",
   "execution_count": 39,
   "metadata": {},
   "outputs": [],
   "source": [
    "# Hit the Google Places API for each city's coordinates.\n",
    "base_url = \"https://maps.googleapis.com/maps/api/place/nearbysearch/json\"\n",
    "\n",
    "params = {\"type\" : \"hotel\",\n",
    "          \"keyword\" : \"hotel\",\n",
    "          \"radius\" : radius,\n",
    "          \"key\" : g_key}\n",
    "          \n",
    "# Store the first Hotel result into the DataFrame.\n",
    "# Plot markers on top of the heatmap."
   ]
  },
  {
   "cell_type": "code",
   "execution_count": 49,
   "metadata": {},
   "outputs": [
    {
     "output_type": "stream",
     "name": "stdout",
     "text": [
      "Processind record 25: Howard Springs.\n",
      "Closer hotel: buffalo beach hostel.\n",
      "Processind record 77: Ixtapa.\n",
      "Closer hotel: Flamingo Vallarta Hotel & Marina.\n",
      "Processind record 79: Hilo.\n",
      "Closer hotel: Hilo Hawaiian Hotel.\n",
      "Processind record 433: Cabo San Lucas.\n",
      "Closer hotel: Waldorf Astoria Los Cabos Pedregal.\n",
      "Processind record 443: Lorengau.\n",
      "Closer hotel: Lorengau Harbourside Hotel.\n"
     ]
    }
   ],
   "source": [
    "for index, row in hotel_df.iterrows():\n",
    "    # get city name, lat, lnt from df\n",
    "    lat = row[\"Lat\"]\n",
    "    lng = row[\"Lng\"]\n",
    "    city_name = row[\"City\"]\n",
    "    \n",
    "    # add location to params \n",
    "    params[\"location\"] = f\"{lat},{lng}\"\n",
    "\n",
    "    # assemble url and make API request\n",
    "    print(f\"Processind record {index}: {city_name}.\")\n",
    "    response = requests.get(base_url, params=params).json()\n",
    "    \n",
    "    # extract results\n",
    "    data = response['results']\n",
    "    \n",
    "    # Manage the requests into a try/except structure\n",
    "    try:\n",
    "        print(f\"Closer hotel: {data[0]['name']}.\")\n",
    "        hotel_df.loc[index, \"Hotel Name\"] = data[0]['name']\n",
    "\n",
    "    # Hotels not avaialable\n",
    "    except (KeyError, IndexError):\n",
    "        print(f\"No hotels found.\")\n"
   ]
  },
  {
   "cell_type": "code",
   "execution_count": 50,
   "metadata": {},
   "outputs": [
    {
     "output_type": "execute_result",
     "data": {
      "text/plain": [
       "               City  Cloudiness Country        Date  Humidity    Lat     Lng  \\\n",
       "25   Howard Springs          40      AU  2020-10-25        66 -12.50  131.05   \n",
       "77           Ixtapa          75      MX  2020-10-25        66  20.70 -105.20   \n",
       "79             Hilo          40      US  2020-10-25        55  19.73 -155.09   \n",
       "433  Cabo San Lucas          40      MX  2020-10-25        58  22.89 -109.91   \n",
       "443        Lorengau         100      PG  2020-10-25        65  -2.02  147.27   \n",
       "\n",
       "     Max Temp  Wind Speed Hotel name                          Hotel Name  \n",
       "25      31.11        1.50                           buffalo beach hostel  \n",
       "77      32.00        3.10               Flamingo Vallarta Hotel & Marina  \n",
       "79      31.00        5.10                            Hilo Hawaiian Hotel  \n",
       "433     31.11        5.10             Waldorf Astoria Los Cabos Pedregal  \n",
       "443     30.06        2.55                     Lorengau Harbourside Hotel  "
      ],
      "text/html": "<div>\n<style scoped>\n    .dataframe tbody tr th:only-of-type {\n        vertical-align: middle;\n    }\n\n    .dataframe tbody tr th {\n        vertical-align: top;\n    }\n\n    .dataframe thead th {\n        text-align: right;\n    }\n</style>\n<table border=\"1\" class=\"dataframe\">\n  <thead>\n    <tr style=\"text-align: right;\">\n      <th></th>\n      <th>City</th>\n      <th>Cloudiness</th>\n      <th>Country</th>\n      <th>Date</th>\n      <th>Humidity</th>\n      <th>Lat</th>\n      <th>Lng</th>\n      <th>Max Temp</th>\n      <th>Wind Speed</th>\n      <th>Hotel name</th>\n      <th>Hotel Name</th>\n    </tr>\n  </thead>\n  <tbody>\n    <tr>\n      <th>25</th>\n      <td>Howard Springs</td>\n      <td>40</td>\n      <td>AU</td>\n      <td>2020-10-25</td>\n      <td>66</td>\n      <td>-12.50</td>\n      <td>131.05</td>\n      <td>31.11</td>\n      <td>1.50</td>\n      <td></td>\n      <td>buffalo beach hostel</td>\n    </tr>\n    <tr>\n      <th>77</th>\n      <td>Ixtapa</td>\n      <td>75</td>\n      <td>MX</td>\n      <td>2020-10-25</td>\n      <td>66</td>\n      <td>20.70</td>\n      <td>-105.20</td>\n      <td>32.00</td>\n      <td>3.10</td>\n      <td></td>\n      <td>Flamingo Vallarta Hotel &amp; Marina</td>\n    </tr>\n    <tr>\n      <th>79</th>\n      <td>Hilo</td>\n      <td>40</td>\n      <td>US</td>\n      <td>2020-10-25</td>\n      <td>55</td>\n      <td>19.73</td>\n      <td>-155.09</td>\n      <td>31.00</td>\n      <td>5.10</td>\n      <td></td>\n      <td>Hilo Hawaiian Hotel</td>\n    </tr>\n    <tr>\n      <th>433</th>\n      <td>Cabo San Lucas</td>\n      <td>40</td>\n      <td>MX</td>\n      <td>2020-10-25</td>\n      <td>58</td>\n      <td>22.89</td>\n      <td>-109.91</td>\n      <td>31.11</td>\n      <td>5.10</td>\n      <td></td>\n      <td>Waldorf Astoria Los Cabos Pedregal</td>\n    </tr>\n    <tr>\n      <th>443</th>\n      <td>Lorengau</td>\n      <td>100</td>\n      <td>PG</td>\n      <td>2020-10-25</td>\n      <td>65</td>\n      <td>-2.02</td>\n      <td>147.27</td>\n      <td>30.06</td>\n      <td>2.55</td>\n      <td></td>\n      <td>Lorengau Harbourside Hotel</td>\n    </tr>\n  </tbody>\n</table>\n</div>"
     },
     "metadata": {},
     "execution_count": 50
    }
   ],
   "source": [
    "hotel_df"
   ]
  },
  {
   "cell_type": "code",
   "execution_count": 46,
   "metadata": {},
   "outputs": [],
   "source": [
    "# NOTE: Do not change any of the code in this cell\n",
    "\n",
    "# Using the template add the hotel marks to the heatmap\n",
    "info_box_template = \"\"\"\n",
    "<dl>\n",
    "<dt>Name</dt><dd>{Hotel Name}</dd>\n",
    "<dt>City</dt><dd>{City}</dd>\n",
    "<dt>Country</dt><dd>{Country}</dd>\n",
    "</dl>\n",
    "\"\"\"\n",
    "# Store the DataFrame Row\n",
    "# NOTE: be sure to update with your DataFrame name\n",
    "hotel_info = [info_box_template.format(**row) for index, row in hotel_df.iterrows()]\n",
    "locations = hotel_df[[\"Lat\", \"Lng\"]]"
   ]
  },
  {
   "cell_type": "code",
   "execution_count": 47,
   "metadata": {},
   "outputs": [
    {
     "output_type": "display_data",
     "data": {
      "text/plain": "Figure(layout=FigureLayout(height='420px'))",
      "application/vnd.jupyter.widget-view+json": {
       "version_major": 2,
       "version_minor": 0,
       "model_id": "502ee79ff5d24b2bac713ff1eb488f18"
      }
     },
     "metadata": {}
    }
   ],
   "source": [
    "\n",
    "# Add marker layer and info box content ontop of heat map\n",
    "markers = gmaps.marker_layer(locations, info_box_content = hotel_info)\n",
    "\n",
    "# Add the layer to the map\n",
    "fig.add_layer(markers)\n",
    "\n",
    "# Display Map\n",
    "fig"
   ]
  }
 ],
 "metadata": {
  "kernelspec": {
   "name": "Python 3.8.3 64-bit",
   "display_name": "Python 3.8.3 64-bit",
   "metadata": {
    "interpreter": {
     "hash": "d0a9c46be6618a26d211514e1cc10aa3b53c3805d6f134c69a491bb488cebf31"
    }
   }
  },
  "language_info": {
   "codemirror_mode": {
    "name": "ipython",
    "version": 3
   },
   "file_extension": ".py",
   "mimetype": "text/x-python",
   "name": "python",
   "nbconvert_exporter": "python",
   "pygments_lexer": "ipython3",
   "version": "3.8.3-final"
  },
  "latex_envs": {
   "LaTeX_envs_menu_present": true,
   "autoclose": false,
   "autocomplete": true,
   "bibliofile": "biblio.bib",
   "cite_by": "apalike",
   "current_citInitial": 1,
   "eqLabelWithNumbers": true,
   "eqNumInitial": 1,
   "hotkeys": {
    "equation": "Ctrl-E",
    "itemize": "Ctrl-I"
   },
   "labels_anchors": false,
   "latex_user_defs": false,
   "report_style_numbering": false,
   "user_envs_cfg": false
  }
 },
 "nbformat": 4,
 "nbformat_minor": 2
}